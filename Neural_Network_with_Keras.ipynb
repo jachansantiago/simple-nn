{
 "cells": [
  {
   "cell_type": "markdown",
   "metadata": {},
   "source": [
    "# Neural Network with Keras"
   ]
  },
  {
   "cell_type": "code",
   "execution_count": null,
   "metadata": {
    "collapsed": true
   },
   "outputs": [],
   "source": [
    "!pip install tensorflow\n",
    "!pip install keras"
   ]
  },
  {
   "cell_type": "markdown",
   "metadata": {},
   "source": [
    "##  Dependecies"
   ]
  },
  {
   "cell_type": "code",
   "execution_count": 51,
   "metadata": {},
   "outputs": [],
   "source": [
    "%matplotlib inline\n",
    "import matplotlib.pyplot as plt\n",
    "import numpy as np\n",
    "import keras\n",
    "from keras.datasets import mnist\n",
    "from keras.models import Sequential\n",
    "from keras.layers import Dense\n",
    "from ipywidgets import interact"
   ]
  },
  {
   "cell_type": "markdown",
   "metadata": {},
   "source": [
    "## Load Data"
   ]
  },
  {
   "cell_type": "code",
   "execution_count": 29,
   "metadata": {
    "collapsed": true
   },
   "outputs": [],
   "source": [
    "(X_train, y_train), (X_test, y_test) = mnist.load_data()"
   ]
  },
  {
   "cell_type": "code",
   "execution_count": 30,
   "metadata": {},
   "outputs": [
    {
     "data": {
      "text/plain": [
       "(60000, 28, 28)"
      ]
     },
     "execution_count": 30,
     "metadata": {},
     "output_type": "execute_result"
    }
   ],
   "source": [
    "X_train.shape\n",
    "# X_train[1]"
   ]
  },
  {
   "cell_type": "code",
   "execution_count": 31,
   "metadata": {},
   "outputs": [
    {
     "data": {
      "text/plain": [
       "array([5, 0, 4, ..., 5, 6, 8], dtype=uint8)"
      ]
     },
     "execution_count": 31,
     "metadata": {},
     "output_type": "execute_result"
    }
   ],
   "source": [
    "y_train"
   ]
  },
  {
   "cell_type": "code",
   "execution_count": 32,
   "metadata": {},
   "outputs": [],
   "source": [
    "X_train = X_train.reshape((-1, 784))/255.\n",
    "X_test = X_test.reshape((-1, 784))/255."
   ]
  },
  {
   "cell_type": "code",
   "execution_count": 33,
   "metadata": {},
   "outputs": [
    {
     "data": {
      "text/plain": [
       "((60000, 784), dtype('float64'))"
      ]
     },
     "execution_count": 33,
     "metadata": {},
     "output_type": "execute_result"
    }
   ],
   "source": [
    "X_train.shape, X_train.dtype"
   ]
  },
  {
   "cell_type": "code",
   "execution_count": 34,
   "metadata": {
    "collapsed": true
   },
   "outputs": [],
   "source": [
    "n_classes = 10\n",
    "y_train = keras.utils.to_categorical(y_train, n_classes)\n",
    "y_test = keras.utils.to_categorical(y_test, n_classes)"
   ]
  },
  {
   "cell_type": "code",
   "execution_count": 35,
   "metadata": {},
   "outputs": [
    {
     "data": {
      "text/plain": [
       "array([[ 0.,  0.,  0., ...,  0.,  0.,  0.],\n",
       "       [ 1.,  0.,  0., ...,  0.,  0.,  0.],\n",
       "       [ 0.,  0.,  0., ...,  0.,  0.,  0.],\n",
       "       ..., \n",
       "       [ 0.,  0.,  0., ...,  0.,  0.,  0.],\n",
       "       [ 0.,  0.,  0., ...,  0.,  0.,  0.],\n",
       "       [ 0.,  0.,  0., ...,  0.,  1.,  0.]])"
      ]
     },
     "execution_count": 35,
     "metadata": {},
     "output_type": "execute_result"
    }
   ],
   "source": [
    "y_train"
   ]
  },
  {
   "cell_type": "markdown",
   "metadata": {},
   "source": [
    "## Network Architecture"
   ]
  },
  {
   "cell_type": "code",
   "execution_count": 59,
   "metadata": {
    "collapsed": true
   },
   "outputs": [],
   "source": [
    "model = Sequential()\n",
    "model.add(Dense(64, activation='sigmoid', input_shape=(784,)))\n",
    "model.add(Dense(64, activation='sigmoid'))\n",
    "model.add(Dense(64, activation='sigmoid'))\n",
    "model.add(Dense(10, activation='softmax'))"
   ]
  },
  {
   "cell_type": "code",
   "execution_count": 60,
   "metadata": {},
   "outputs": [
    {
     "name": "stdout",
     "output_type": "stream",
     "text": [
      "_________________________________________________________________\n",
      "Layer (type)                 Output Shape              Param #   \n",
      "=================================================================\n",
      "dense_8 (Dense)              (None, 64)                50240     \n",
      "_________________________________________________________________\n",
      "dense_9 (Dense)              (None, 64)                4160      \n",
      "_________________________________________________________________\n",
      "dense_10 (Dense)             (None, 64)                4160      \n",
      "_________________________________________________________________\n",
      "dense_11 (Dense)             (None, 10)                650       \n",
      "=================================================================\n",
      "Total params: 59,210\n",
      "Trainable params: 59,210\n",
      "Non-trainable params: 0\n",
      "_________________________________________________________________\n"
     ]
    }
   ],
   "source": [
    "model.summary()"
   ]
  },
  {
   "cell_type": "code",
   "execution_count": 61,
   "metadata": {
    "collapsed": true
   },
   "outputs": [],
   "source": [
    "model.compile(loss='categorical_crossentropy', optimizer='adam', metrics=['accuracy'])"
   ]
  },
  {
   "cell_type": "markdown",
   "metadata": {},
   "source": [
    "## Train!"
   ]
  },
  {
   "cell_type": "code",
   "execution_count": 62,
   "metadata": {},
   "outputs": [
    {
     "name": "stdout",
     "output_type": "stream",
     "text": [
      "Train on 60000 samples, validate on 10000 samples\n",
      "Epoch 1/30\n",
      "60000/60000 [==============================] - 3s 43us/step - loss: 1.1408 - acc: 0.7007 - val_loss: 0.4256 - val_acc: 0.8957\n",
      "Epoch 2/30\n",
      "60000/60000 [==============================] - 2s 40us/step - loss: 0.3337 - acc: 0.9111 - val_loss: 0.2615 - val_acc: 0.9273\n",
      "Epoch 3/30\n",
      "60000/60000 [==============================] - 2s 34us/step - loss: 0.2330 - acc: 0.9351 - val_loss: 0.2035 - val_acc: 0.9437\n",
      "Epoch 4/30\n",
      "60000/60000 [==============================] - 2s 35us/step - loss: 0.1839 - acc: 0.9480 - val_loss: 0.1728 - val_acc: 0.9500\n",
      "Epoch 5/30\n",
      "60000/60000 [==============================] - 2s 35us/step - loss: 0.1522 - acc: 0.9571 - val_loss: 0.1475 - val_acc: 0.9564\n",
      "Epoch 6/30\n",
      "60000/60000 [==============================] - 2s 36us/step - loss: 0.1278 - acc: 0.9640 - val_loss: 0.1328 - val_acc: 0.9603\n",
      "Epoch 7/30\n",
      "60000/60000 [==============================] - 2s 36us/step - loss: 0.1108 - acc: 0.9688 - val_loss: 0.1267 - val_acc: 0.9620\n",
      "Epoch 8/30\n",
      "60000/60000 [==============================] - 2s 35us/step - loss: 0.0968 - acc: 0.9729 - val_loss: 0.1172 - val_acc: 0.9645\n",
      "Epoch 9/30\n",
      "60000/60000 [==============================] - 2s 36us/step - loss: 0.0866 - acc: 0.9752 - val_loss: 0.1103 - val_acc: 0.9655\n",
      "Epoch 10/30\n",
      "60000/60000 [==============================] - 2s 36us/step - loss: 0.0760 - acc: 0.9786 - val_loss: 0.1077 - val_acc: 0.9664\n",
      "Epoch 11/30\n",
      "60000/60000 [==============================] - 2s 35us/step - loss: 0.0689 - acc: 0.9802 - val_loss: 0.1058 - val_acc: 0.9679\n",
      "Epoch 12/30\n",
      "60000/60000 [==============================] - 2s 35us/step - loss: 0.0619 - acc: 0.9824 - val_loss: 0.1021 - val_acc: 0.9704\n",
      "Epoch 13/30\n",
      "60000/60000 [==============================] - 2s 35us/step - loss: 0.0555 - acc: 0.9847 - val_loss: 0.1020 - val_acc: 0.9694\n",
      "Epoch 14/30\n",
      "60000/60000 [==============================] - 2s 36us/step - loss: 0.0503 - acc: 0.9859 - val_loss: 0.1081 - val_acc: 0.9687\n",
      "Epoch 15/30\n",
      "60000/60000 [==============================] - 2s 35us/step - loss: 0.0452 - acc: 0.9873 - val_loss: 0.1059 - val_acc: 0.9690\n",
      "Epoch 16/30\n",
      "60000/60000 [==============================] - 2s 36us/step - loss: 0.0399 - acc: 0.9895 - val_loss: 0.1053 - val_acc: 0.9705\n",
      "Epoch 17/30\n",
      "60000/60000 [==============================] - 2s 37us/step - loss: 0.0365 - acc: 0.9903 - val_loss: 0.1043 - val_acc: 0.9712\n",
      "Epoch 18/30\n",
      "60000/60000 [==============================] - 2s 35us/step - loss: 0.0330 - acc: 0.9913 - val_loss: 0.1090 - val_acc: 0.9703\n",
      "Epoch 19/30\n",
      "60000/60000 [==============================] - 2s 36us/step - loss: 0.0293 - acc: 0.9927 - val_loss: 0.1102 - val_acc: 0.9708\n",
      "Epoch 20/30\n",
      "60000/60000 [==============================] - 2s 36us/step - loss: 0.0275 - acc: 0.9926 - val_loss: 0.1117 - val_acc: 0.9704\n",
      "Epoch 21/30\n",
      "60000/60000 [==============================] - 2s 36us/step - loss: 0.0239 - acc: 0.9942 - val_loss: 0.1129 - val_acc: 0.9706\n",
      "Epoch 22/30\n",
      "60000/60000 [==============================] - 2s 36us/step - loss: 0.0215 - acc: 0.9948 - val_loss: 0.1178 - val_acc: 0.9685\n",
      "Epoch 23/30\n",
      "60000/60000 [==============================] - 2s 37us/step - loss: 0.0198 - acc: 0.9952 - val_loss: 0.1180 - val_acc: 0.9710\n",
      "Epoch 24/30\n",
      "60000/60000 [==============================] - 2s 36us/step - loss: 0.0174 - acc: 0.9960 - val_loss: 0.1189 - val_acc: 0.9702\n",
      "Epoch 25/30\n",
      "60000/60000 [==============================] - 3s 44us/step - loss: 0.0156 - acc: 0.9965 - val_loss: 0.1271 - val_acc: 0.9696\n",
      "Epoch 26/30\n",
      "60000/60000 [==============================] - 2s 38us/step - loss: 0.0139 - acc: 0.9970 - val_loss: 0.1206 - val_acc: 0.9723\n",
      "Epoch 27/30\n",
      "60000/60000 [==============================] - 2s 36us/step - loss: 0.0128 - acc: 0.9973 - val_loss: 0.1298 - val_acc: 0.9692\n",
      "Epoch 28/30\n",
      "60000/60000 [==============================] - 2s 36us/step - loss: 0.0122 - acc: 0.9974 - val_loss: 0.1380 - val_acc: 0.9686\n",
      "Epoch 29/30\n",
      "60000/60000 [==============================] - 2s 40us/step - loss: 0.0112 - acc: 0.9977 - val_loss: 0.1281 - val_acc: 0.9721\n",
      "Epoch 30/30\n",
      "60000/60000 [==============================] - 2s 38us/step - loss: 0.0090 - acc: 0.9983 - val_loss: 0.1380 - val_acc: 0.9691\n"
     ]
    },
    {
     "data": {
      "text/plain": [
       "<keras.callbacks.History at 0x120078e10>"
      ]
     },
     "execution_count": 62,
     "metadata": {},
     "output_type": "execute_result"
    }
   ],
   "source": [
    "model.fit(X_train, y_train, batch_size=128, epochs=30, verbose=1, validation_data=(X_test, y_test))"
   ]
  },
  {
   "cell_type": "code",
   "execution_count": 47,
   "metadata": {
    "collapsed": true
   },
   "outputs": [],
   "source": [
    "Test_p = X_test[0:10].reshape((10, 28, 28))\n",
    "Test_a = X_test[0:10]"
   ]
  },
  {
   "cell_type": "code",
   "execution_count": 53,
   "metadata": {},
   "outputs": [],
   "source": [
    "prediction = model.predict(Test_a)"
   ]
  },
  {
   "cell_type": "code",
   "execution_count": 54,
   "metadata": {
    "collapsed": true
   },
   "outputs": [],
   "source": [
    "import numpy as np\n",
    "from ipywidgets import interact\n",
    "import matplotlib.pyplot as plt"
   ]
  },
  {
   "cell_type": "code",
   "execution_count": 52,
   "metadata": {},
   "outputs": [
    {
     "data": {
      "application/vnd.jupyter.widget-view+json": {
       "model_id": "389e29389fed4889b06c40e029408fbb"
      }
     },
     "metadata": {},
     "output_type": "display_data"
    },
    {
     "data": {
      "text/plain": [
       "<function __main__.f>"
      ]
     },
     "execution_count": 52,
     "metadata": {},
     "output_type": "execute_result"
    }
   ],
   "source": [
    "def f(x):\n",
    "    print(np.argmax(prediction[x]))\n",
    "    plt.imshow(Test_p[x])\n",
    "    plt.show()\n",
    "    \n",
    "    \n",
    "interact(f, x=(0,10, 1))"
   ]
  },
  {
   "cell_type": "code",
   "execution_count": null,
   "metadata": {
    "collapsed": true
   },
   "outputs": [],
   "source": []
  },
  {
   "cell_type": "code",
   "execution_count": null,
   "metadata": {
    "collapsed": true
   },
   "outputs": [],
   "source": []
  },
  {
   "cell_type": "code",
   "execution_count": null,
   "metadata": {
    "collapsed": true
   },
   "outputs": [],
   "source": []
  }
 ],
 "metadata": {
  "kernelspec": {
   "display_name": "Python 3",
   "language": "python",
   "name": "python3"
  },
  "language_info": {
   "codemirror_mode": {
    "name": "ipython",
    "version": 2
   },
   "file_extension": ".py",
   "mimetype": "text/x-python",
   "name": "python",
   "nbconvert_exporter": "python",
   "pygments_lexer": "ipython2",
   "version": "2.7.13"
  }
 },
 "nbformat": 4,
 "nbformat_minor": 2
}
